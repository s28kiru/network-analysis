{
 "cells": [
  {
   "cell_type": "markdown",
   "metadata": {},
   "source": [
    "* networks in day to day:\n",
    "    - molecules are graphs\n",
    "    - transport network\n",
    "\n",
    "Graph - G(N,E)\n",
    "\n",
    "road network: node will be place. path b/w place to place is edge"
   ]
  }
 ],
 "metadata": {
  "kernelspec": {
   "display_name": "Python 3",
   "language": "python",
   "name": "python3"
  },
  "language_info": {
   "codemirror_mode": {
    "name": "ipython",
    "version": 3
   },
   "file_extension": ".py",
   "mimetype": "text/x-python",
   "name": "python",
   "nbconvert_exporter": "python",
   "pygments_lexer": "ipython3",
   "version": "3.7.3"
  }
 },
 "nbformat": 4,
 "nbformat_minor": 4
}
